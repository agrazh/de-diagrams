{
 "cells": [
  {
   "cell_type": "markdown",
   "metadata": {
    "application/vnd.databricks.v1+cell": {
     "cellMetadata": {},
     "inputWidgets": {},
     "nuid": "5c17e8b8-edfd-41cc-a531-81123f53194b",
     "showTitle": false,
     "title": ""
    }
   },
   "source": [
    "##### Option 1. Recursive. Cars data"
   ]
  },
  {
   "cell_type": "code",
   "execution_count": 0,
   "metadata": {
    "application/vnd.databricks.v1+cell": {
     "cellMetadata": {
      "byteLimit": 2048000,
      "rowLimit": 10000
     },
     "inputWidgets": {},
     "nuid": "1021fa48-4a72-4b50-9b62-6b54071e74ce",
     "showTitle": false,
     "title": ""
    },
    "jupyter": {
     "outputs_hidden": true
    }
   },
   "outputs": [
    {
     "output_type": "display_data",
     "data": {
      "text/html": [
       "<style scoped>\n",
       "  .ansiout {\n",
       "    display: block;\n",
       "    unicode-bidi: embed;\n",
       "    white-space: pre-wrap;\n",
       "    word-wrap: break-word;\n",
       "    word-break: break-all;\n",
       "    font-family: \"Menlo\", \"Monaco\", \"Consolas\", \"Ubuntu Mono\", \"Source Code Pro\", monospace;\n",
       "    font-size: 13px;\n",
       "    color: #555;\n",
       "    margin-left: 4px;\n",
       "    line-height: 19px;\n",
       "  }\n",
       "</style>\n",
       "<div class=\"ansiout\">import org.apache.spark.sql.SparkSession\n",
       "import org.apache.spark.SparkContext\n",
       "import org.apache.spark.SparkConf\n",
       "import org.apache.spark.sql.SQLContext\n",
       "import org.apache.spark.sql.types.{StructType, ArrayType}\n",
       "import org.apache.spark.sql.DataFrame\n",
       "import org.apache.spark.sql.Column\n",
       "import org.apache.spark.sql.functions.col\n",
       "import org.apache.spark.sql.functions.explode_outer\n",
       "</div>"
      ]
     },
     "metadata": {
      "application/vnd.databricks.v1+output": {
       "addedWidgets": {},
       "arguments": {},
       "data": "<div class=\"ansiout\">import org.apache.spark.sql.SparkSession\nimport org.apache.spark.SparkContext\nimport org.apache.spark.SparkConf\nimport org.apache.spark.sql.SQLContext\nimport org.apache.spark.sql.types.{StructType, ArrayType}\nimport org.apache.spark.sql.DataFrame\nimport org.apache.spark.sql.Column\nimport org.apache.spark.sql.functions.col\nimport org.apache.spark.sql.functions.explode_outer\n</div>",
       "datasetInfos": [],
       "metadata": {
        "isDbfsCommandResult": false
       },
       "removedWidgets": [],
       "type": "html"
      }
     },
     "output_type": "display_data"
    }
   ],
   "source": [
    "%scala\n",
    "import org.apache.spark.sql.SparkSession\n",
    "import org.apache.spark.SparkContext\n",
    "import org.apache.spark.SparkConf\n",
    "import org.apache.spark.sql.SQLContext\n",
    "import org.apache.spark.sql.types.{StructType,ArrayType}\n",
    "import org.apache.spark.sql.DataFrame\n",
    "import org.apache.spark.sql.Column\n",
    "import org.apache.spark.sql.functions.col\n",
    "import org.apache.spark.sql.functions.explode_outer"
   ]
  },
  {
   "cell_type": "code",
   "execution_count": 0,
   "metadata": {
    "application/vnd.databricks.v1+cell": {
     "cellMetadata": {
      "byteLimit": 2048000,
      "rowLimit": 10000
     },
     "inputWidgets": {},
     "nuid": "742b3b60-3101-4b44-83b3-c33e4ec7990b",
     "showTitle": false,
     "title": ""
    }
   },
   "outputs": [
    {
     "output_type": "display_data",
     "data": {
      "text/html": [
       "<style scoped>\n",
       "  .ansiout {\n",
       "    display: block;\n",
       "    unicode-bidi: embed;\n",
       "    white-space: pre-wrap;\n",
       "    word-wrap: break-word;\n",
       "    word-break: break-all;\n",
       "    font-family: \"Menlo\", \"Monaco\", \"Consolas\", \"Ubuntu Mono\", \"Source Code Pro\", monospace;\n",
       "    font-size: 13px;\n",
       "    color: #555;\n",
       "    margin-left: 4px;\n",
       "    line-height: 19px;\n",
       "  }\n",
       "</style>\n",
       "<div class=\"ansiout\">{\n",
       " &quot;name&quot;:&quot;John&quot;,\n",
       " &quot;age&quot;:30,\n",
       " &quot;bike&quot;:{\n",
       "\t&quot;name&quot;:&quot;Bajaj&quot;, &quot;models&quot;:[&quot;Dominor&quot;, &quot;Pulsar&quot;]\n",
       "\t},\n",
       " &quot;cars&quot;: [\n",
       "   { &quot;name&quot;:&quot;Ford&quot;, &quot;models&quot;:[ &quot;Fiesta&quot;, &quot;Focus&quot;, &quot;Mustang&quot; ] },\n",
       "   { &quot;name&quot;:&quot;BMW&quot;, &quot;models&quot;:[ &quot;320&quot;, &quot;X3&quot;, &quot;X5&quot; ] },\n",
       "   { &quot;name&quot;:&quot;Fiat&quot;, &quot;models&quot;:[ &quot;500&quot;, &quot;Panda&quot; ] }\n",
       " ]\n",
       "}\n",
       "+---+--------------------------+------------------------------------------------------------------------------+----+\n",
       "age|bike                      |cars                                                                          |name|\n",
       "+---+--------------------------+------------------------------------------------------------------------------+----+\n",
       "30 |{[Dominor, Pulsar], Bajaj}|[{[Fiesta, Focus, Mustang], Ford}, {[320, X3, X5], BMW}, {[500, Panda], Fiat}]|John|\n",
       "+---+--------------------------+------------------------------------------------------------------------------+----+\n",
       "\n",
       "import sqlContext.implicits._\n",
       "inputJson: String =\n",
       "{\n",
       " &quot;name&quot;:&quot;John&quot;,\n",
       " &quot;age&quot;:30,\n",
       " &quot;bike&quot;:{\n",
       "\t&quot;name&quot;:&quot;Bajaj&quot;, &quot;models&quot;:[&quot;Dominor&quot;, &quot;Pulsar&quot;]\n",
       "\t},\n",
       " &quot;cars&quot;: [\n",
       "   { &quot;name&quot;:&quot;Ford&quot;, &quot;models&quot;:[ &quot;Fiesta&quot;, &quot;Focus&quot;, &quot;Mustang&quot; ] },\n",
       "   { &quot;name&quot;:&quot;BMW&quot;, &quot;models&quot;:[ &quot;320&quot;, &quot;X3&quot;, &quot;X5&quot; ] },\n",
       "   { &quot;name&quot;:&quot;Fiat&quot;, &quot;models&quot;:[ &quot;500&quot;, &quot;Panda&quot; ] }\n",
       " ]\n",
       "}\n",
       "jsonRDD: org.apache.spark.rdd.RDD[String] = ParallelCollectionRDD[0] at parallelize at command-4242265229042504:22\n",
       "jsonDF: org.apache.spark.sql.DataFrame = [age: bigint, bike: struct&lt;models: array&lt;string&gt;, name: string&gt; ... 2 more fields]\n",
       "flattenDataframe: (df: org.apache.spark.sql.DataFrame)org.apache.spark.sql.DataFrame\n",
       "</div>"
      ]
     },
     "metadata": {
      "application/vnd.databricks.v1+output": {
       "addedWidgets": {},
       "arguments": {},
       "data": "<div class=\"ansiout\">{\n &quot;name&quot;:&quot;John&quot;,\n &quot;age&quot;:30,\n &quot;bike&quot;:{\n\t&quot;name&quot;:&quot;Bajaj&quot;, &quot;models&quot;:[&quot;Dominor&quot;, &quot;Pulsar&quot;]\n\t},\n &quot;cars&quot;: [\n   { &quot;name&quot;:&quot;Ford&quot;, &quot;models&quot;:[ &quot;Fiesta&quot;, &quot;Focus&quot;, &quot;Mustang&quot; ] },\n   { &quot;name&quot;:&quot;BMW&quot;, &quot;models&quot;:[ &quot;320&quot;, &quot;X3&quot;, &quot;X5&quot; ] },\n   { &quot;name&quot;:&quot;Fiat&quot;, &quot;models&quot;:[ &quot;500&quot;, &quot;Panda&quot; ] }\n ]\n}\n+---+--------------------------+------------------------------------------------------------------------------+----+\n|age|bike                      |cars                                                                          |name|\n+---+--------------------------+------------------------------------------------------------------------------+----+\n|30 |{[Dominor, Pulsar], Bajaj}|[{[Fiesta, Focus, Mustang], Ford}, {[320, X3, X5], BMW}, {[500, Panda], Fiat}]|John|\n+---+--------------------------+------------------------------------------------------------------------------+----+\n\nimport sqlContext.implicits._\ninputJson: String =\n{\n &quot;name&quot;:&quot;John&quot;,\n &quot;age&quot;:30,\n &quot;bike&quot;:{\n\t&quot;name&quot;:&quot;Bajaj&quot;, &quot;models&quot;:[&quot;Dominor&quot;, &quot;Pulsar&quot;]\n\t},\n &quot;cars&quot;: [\n   { &quot;name&quot;:&quot;Ford&quot;, &quot;models&quot;:[ &quot;Fiesta&quot;, &quot;Focus&quot;, &quot;Mustang&quot; ] },\n   { &quot;name&quot;:&quot;BMW&quot;, &quot;models&quot;:[ &quot;320&quot;, &quot;X3&quot;, &quot;X5&quot; ] },\n   { &quot;name&quot;:&quot;Fiat&quot;, &quot;models&quot;:[ &quot;500&quot;, &quot;Panda&quot; ] }\n ]\n}\njsonRDD: org.apache.spark.rdd.RDD[String] = ParallelCollectionRDD[0] at parallelize at command-4242265229042504:22\njsonDF: org.apache.spark.sql.DataFrame = [age: bigint, bike: struct&lt;models: array&lt;string&gt;, name: string&gt; ... 2 more fields]\nflattenDataframe: (df: org.apache.spark.sql.DataFrame)org.apache.spark.sql.DataFrame\n</div>",
       "datasetInfos": [],
       "metadata": {
        "isDbfsCommandResult": false
       },
       "removedWidgets": [],
       "type": "html"
      }
     },
     "output_type": "display_data"
    }
   ],
   "source": [
    "%scala\n",
    "// val conf = new SparkConf().setMaster(\"local[*]\").setAppName(\"JSON Flattener\")\n",
    "// val sc = new SparkContext(conf)\n",
    "\n",
    "// val sqlContext = new SQLContext(sc)\n",
    "import sqlContext.implicits._\n",
    "\n",
    "val inputJson = \"\"\"|{\n",
    "                    | \"name\":\"John\",\n",
    "                    | \"age\":30,\n",
    "                    | \"bike\":{\n",
    "                    |\t\"name\":\"Bajaj\", \"models\":[\"Dominor\", \"Pulsar\"]\n",
    "                    |\t},\n",
    "                    | \"cars\": [\n",
    "                    |   { \"name\":\"Ford\", \"models\":[ \"Fiesta\", \"Focus\", \"Mustang\" ] },\n",
    "                    |   { \"name\":\"BMW\", \"models\":[ \"320\", \"X3\", \"X5\" ] },\n",
    "                    |   { \"name\":\"Fiat\", \"models\":[ \"500\", \"Panda\" ] }\n",
    "                    | ]\n",
    "                    |}\"\"\".stripMargin('|')\n",
    "println(inputJson)\n",
    "  \n",
    "  //creating rdd for the json\n",
    "  val jsonRDD = sc.parallelize(inputJson::Nil)\n",
    "  //creating DF for the json\n",
    "  // val jsonDF = sqlContext.read.json(jsonRDD)\n",
    "  val jsonDF = spark.read.json(spark.createDataset(inputJson :: Nil))\n",
    " \n",
    "  //Schema of the JSON DataFrame before Flattening\n",
    "  jsonDF.schema\n",
    "  \n",
    "  //Output DataFrame Before Flattening\n",
    "  jsonDF.show(false)\n",
    "  \n",
    "  //Function for exploding Array and StructType column\n",
    "  \n",
    "  def flattenDataframe(df: DataFrame): DataFrame = {\n",
    "\n",
    "    val fields = df.schema.fields\n",
    "    val fieldNames = fields.map(x => x.name)\n",
    "    val length = fields.length\n",
    "    \n",
    "    for(i <- 0 to fields.length-1){\n",
    "      val field = fields(i)\n",
    "      val fieldtype = field.dataType\n",
    "      val fieldName = field.name\n",
    "      fieldtype match {\n",
    "        case arrayType: ArrayType =>\n",
    "          val fieldNamesExcludingArray = fieldNames.filter(_!=fieldName)\n",
    "          val fieldNamesAndExplode = fieldNamesExcludingArray ++ Array(s\"explode_outer($fieldName) as $fieldName\")\n",
    "         // val fieldNamesToSelect = (fieldNamesExcludingArray ++ Array(s\"$fieldName.*\"))\n",
    "          val explodedDf = df.selectExpr(fieldNamesAndExplode:_*)\n",
    "          return flattenDataframe(explodedDf)\n",
    "        case structType: StructType =>\n",
    "          val childFieldnames = structType.fieldNames.map(childname => fieldName +\".\"+childname)\n",
    "          val newfieldNames = fieldNames.filter(_!= fieldName) ++ childFieldnames\n",
    "          val renamedcols = newfieldNames.map(x => (col(x.toString()).as(x.toString().replace(\".\", \"_\"))))\n",
    "         val explodedf = df.select(renamedcols:_*)\n",
    "          return flattenDataframe(explodedf)\n",
    "        case _ =>\n",
    "      }\n",
    "    }\n",
    "    df\n",
    "  }"
   ]
  },
  {
   "cell_type": "code",
   "execution_count": 0,
   "metadata": {
    "application/vnd.databricks.v1+cell": {
     "cellMetadata": {
      "byteLimit": 2048000,
      "rowLimit": 10000
     },
     "inputWidgets": {},
     "nuid": "dc830e49-9996-4a57-8900-1d912448545f",
     "showTitle": false,
     "title": ""
    }
   },
   "outputs": [
    {
     "output_type": "display_data",
     "data": {
      "text/html": [
       "<style scoped>\n",
       "  .ansiout {\n",
       "    display: block;\n",
       "    unicode-bidi: embed;\n",
       "    white-space: pre-wrap;\n",
       "    word-wrap: break-word;\n",
       "    word-break: break-all;\n",
       "    font-family: \"Menlo\", \"Monaco\", \"Consolas\", \"Ubuntu Mono\", \"Source Code Pro\", monospace;\n",
       "    font-size: 13px;\n",
       "    color: #555;\n",
       "    margin-left: 4px;\n",
       "    line-height: 19px;\n",
       "  }\n",
       "</style>\n",
       "<div class=\"ansiout\">+---+----+---------+-----------+---------+-----------+\n",
       "age|name|bike_name|bike_models|cars_name|cars_models|\n",
       "+---+----+---------+-----------+---------+-----------+\n",
       "30 |John|Bajaj    |Dominor    |Ford     |Fiesta     |\n",
       "30 |John|Bajaj    |Dominor    |Ford     |Focus      |\n",
       "30 |John|Bajaj    |Dominor    |Ford     |Mustang    |\n",
       "30 |John|Bajaj    |Pulsar     |Ford     |Fiesta     |\n",
       "30 |John|Bajaj    |Pulsar     |Ford     |Focus      |\n",
       "30 |John|Bajaj    |Pulsar     |Ford     |Mustang    |\n",
       "30 |John|Bajaj    |Dominor    |BMW      |320        |\n",
       "30 |John|Bajaj    |Dominor    |BMW      |X3         |\n",
       "30 |John|Bajaj    |Dominor    |BMW      |X5         |\n",
       "30 |John|Bajaj    |Pulsar     |BMW      |320        |\n",
       "30 |John|Bajaj    |Pulsar     |BMW      |X3         |\n",
       "30 |John|Bajaj    |Pulsar     |BMW      |X5         |\n",
       "30 |John|Bajaj    |Dominor    |Fiat     |500        |\n",
       "30 |John|Bajaj    |Dominor    |Fiat     |Panda      |\n",
       "30 |John|Bajaj    |Pulsar     |Fiat     |500        |\n",
       "30 |John|Bajaj    |Pulsar     |Fiat     |Panda      |\n",
       "+---+----+---------+-----------+---------+-----------+\n",
       "\n",
       "flattendedJSON: org.apache.spark.sql.DataFrame = [age: bigint, name: string ... 4 more fields]\n",
       "</div>"
      ]
     },
     "metadata": {
      "application/vnd.databricks.v1+output": {
       "addedWidgets": {},
       "arguments": {},
       "data": "<div class=\"ansiout\">+---+----+---------+-----------+---------+-----------+\n|age|name|bike_name|bike_models|cars_name|cars_models|\n+---+----+---------+-----------+---------+-----------+\n|30 |John|Bajaj    |Dominor    |Ford     |Fiesta     |\n|30 |John|Bajaj    |Dominor    |Ford     |Focus      |\n|30 |John|Bajaj    |Dominor    |Ford     |Mustang    |\n|30 |John|Bajaj    |Pulsar     |Ford     |Fiesta     |\n|30 |John|Bajaj    |Pulsar     |Ford     |Focus      |\n|30 |John|Bajaj    |Pulsar     |Ford     |Mustang    |\n|30 |John|Bajaj    |Dominor    |BMW      |320        |\n|30 |John|Bajaj    |Dominor    |BMW      |X3         |\n|30 |John|Bajaj    |Dominor    |BMW      |X5         |\n|30 |John|Bajaj    |Pulsar     |BMW      |320        |\n|30 |John|Bajaj    |Pulsar     |BMW      |X3         |\n|30 |John|Bajaj    |Pulsar     |BMW      |X5         |\n|30 |John|Bajaj    |Dominor    |Fiat     |500        |\n|30 |John|Bajaj    |Dominor    |Fiat     |Panda      |\n|30 |John|Bajaj    |Pulsar     |Fiat     |500        |\n|30 |John|Bajaj    |Pulsar     |Fiat     |Panda      |\n+---+----+---------+-----------+---------+-----------+\n\nflattendedJSON: org.apache.spark.sql.DataFrame = [age: bigint, name: string ... 4 more fields]\n</div>",
       "datasetInfos": [
        {
         "name": "flattendedJSON",
         "schema": {
          "fields": [
           {
            "metadata": {},
            "name": "age",
            "nullable": true,
            "type": "long"
           },
           {
            "metadata": {},
            "name": "name",
            "nullable": true,
            "type": "string"
           },
           {
            "metadata": {},
            "name": "bike_name",
            "nullable": true,
            "type": "string"
           },
           {
            "metadata": {},
            "name": "bike_models",
            "nullable": true,
            "type": "string"
           },
           {
            "metadata": {},
            "name": "cars_name",
            "nullable": true,
            "type": "string"
           },
           {
            "metadata": {},
            "name": "cars_models",
            "nullable": true,
            "type": "string"
           }
          ],
          "type": "struct"
         },
         "tableIdentifier": null,
         "typeStr": "org.apache.spark.sql.DataFrame"
        }
       ],
       "metadata": {
        "isDbfsCommandResult": false
       },
       "removedWidgets": [],
       "type": "html"
      }
     },
     "output_type": "display_data"
    }
   ],
   "source": [
    "%scala\n",
    "val flattendedJSON = flattenDataframe(jsonDF)\n",
    "  //schema of the JSON after Flattening\n",
    "  flattendedJSON.schema\n",
    "  \n",
    "  //Output DataFrame After Flattening\n",
    "  flattendedJSON.show(false)"
   ]
  },
  {
   "cell_type": "markdown",
   "metadata": {
    "application/vnd.databricks.v1+cell": {
     "cellMetadata": {},
     "inputWidgets": {},
     "nuid": "c00f0014-6ece-467a-beeb-8f7a2d3ff277",
     "showTitle": false,
     "title": ""
    }
   },
   "source": [
    "##### Option 1. Recursive. Donuts data"
   ]
  },
  {
   "cell_type": "code",
   "execution_count": 0,
   "metadata": {
    "application/vnd.databricks.v1+cell": {
     "cellMetadata": {
      "byteLimit": 2048000,
      "rowLimit": 10000
     },
     "inputWidgets": {},
     "nuid": "77697afa-ffcc-4119-89b7-aa3e495df50f",
     "showTitle": false,
     "title": ""
    },
    "jupyter": {
     "outputs_hidden": true
    }
   },
   "outputs": [
    {
     "output_type": "display_data",
     "data": {
      "text/html": [
       "<style scoped>\n",
       "  .ansiout {\n",
       "    display: block;\n",
       "    unicode-bidi: embed;\n",
       "    white-space: pre-wrap;\n",
       "    word-wrap: break-word;\n",
       "    word-break: break-all;\n",
       "    font-family: \"Menlo\", \"Monaco\", \"Consolas\", \"Ubuntu Mono\", \"Source Code Pro\", monospace;\n",
       "    font-size: 13px;\n",
       "    color: #555;\n",
       "    margin-left: 4px;\n",
       "    line-height: 19px;\n",
       "  }\n",
       "</style>\n",
       "<div class=\"ansiout\">donut_json: String =\n",
       "&quot;\n",
       "\n",
       "{\n",
       "\n",
       "    &quot;id&quot;: &quot;0001&quot;,\n",
       "\n",
       "    &quot;type&quot;: &quot;donut&quot;,\n",
       "\n",
       "    &quot;name&quot;: &quot;Cake&quot;,\n",
       "\n",
       "    &quot;ppu&quot;: 0.55,\n",
       "\n",
       "    &quot;batters&quot;:\n",
       "\n",
       "        {\n",
       "\n",
       "            &quot;batter&quot;:\n",
       "\n",
       "                [\n",
       "\n",
       "                    { &quot;id&quot;: &quot;1001&quot;, &quot;type&quot;: &quot;Regular&quot; },\n",
       "\n",
       "                    { &quot;id&quot;: &quot;1002&quot;, &quot;type&quot;: &quot;Chocolate&quot; },\n",
       "\n",
       "                    { &quot;id&quot;: &quot;1003&quot;, &quot;type&quot;: &quot;Blueberry&quot; },\n",
       "\n",
       "                    { &quot;id&quot;: &quot;1004&quot;, &quot;type&quot;: &quot;Devil's Food&quot; }\n",
       "\n",
       "                ]\n",
       "\n",
       "        },\n",
       "\n",
       "    &quot;topping&quot;:\n",
       "\n",
       "        [\n",
       "\n",
       "            { &quot;id&quot;: &quot;5001&quot;, &quot;type&quot;: &quot;None&quot; },\n",
       "\n",
       "            { &quot;id&quot;: &quot;5002&quot;, &quot;type&quot;: &quot;Glazed&quot; },\n",
       "\n",
       "            { &quot;id&quot;: &quot;5005&quot;, &quot;type&quot;: &quot;Sugar&quot; },\n",
       "\n",
       "            { &quot;id&quot;: &quot;5007&quot;, &quot;type&quot;: &quot;Powdered Sugar&quot; },\n",
       "\n",
       "            { &quot;id&quot;: &quot;5006&quot;, &quot;type&quot;: &quot;Chocolate with Sprinkles&quot; },\n",
       "\n",
       "            { &quot;id&quot;: &quot;5003&quot;, &quot;type&quot;: &quot;Chocolate&quot; },\n",
       "\n",
       "            { &quot;id&quot;: &quot;5004&quot;, &quot;type&quot;: &quot;Maple&quot; }\n",
       "\n",
       "        ]\n",
       "\n",
       "}\n",
       "\n",
       "&quot;\n",
       "</div>"
      ]
     },
     "metadata": {
      "application/vnd.databricks.v1+output": {
       "addedWidgets": {},
       "arguments": {},
       "data": "<div class=\"ansiout\">donut_json: String =\n&quot;\n\n{\n\n    &quot;id&quot;: &quot;0001&quot;,\n\n    &quot;type&quot;: &quot;donut&quot;,\n\n    &quot;name&quot;: &quot;Cake&quot;,\n\n    &quot;ppu&quot;: 0.55,\n\n    &quot;batters&quot;:\n\n        {\n\n            &quot;batter&quot;:\n\n                [\n\n                    { &quot;id&quot;: &quot;1001&quot;, &quot;type&quot;: &quot;Regular&quot; },\n\n                    { &quot;id&quot;: &quot;1002&quot;, &quot;type&quot;: &quot;Chocolate&quot; },\n\n                    { &quot;id&quot;: &quot;1003&quot;, &quot;type&quot;: &quot;Blueberry&quot; },\n\n                    { &quot;id&quot;: &quot;1004&quot;, &quot;type&quot;: &quot;Devil's Food&quot; }\n\n                ]\n\n        },\n\n    &quot;topping&quot;:\n\n        [\n\n            { &quot;id&quot;: &quot;5001&quot;, &quot;type&quot;: &quot;None&quot; },\n\n            { &quot;id&quot;: &quot;5002&quot;, &quot;type&quot;: &quot;Glazed&quot; },\n\n            { &quot;id&quot;: &quot;5005&quot;, &quot;type&quot;: &quot;Sugar&quot; },\n\n            { &quot;id&quot;: &quot;5007&quot;, &quot;type&quot;: &quot;Powdered Sugar&quot; },\n\n            { &quot;id&quot;: &quot;5006&quot;, &quot;type&quot;: &quot;Chocolate with Sprinkles&quot; },\n\n            { &quot;id&quot;: &quot;5003&quot;, &quot;type&quot;: &quot;Chocolate&quot; },\n\n            { &quot;id&quot;: &quot;5004&quot;, &quot;type&quot;: &quot;Maple&quot; }\n\n        ]\n\n}\n\n&quot;\n</div>",
       "datasetInfos": [],
       "metadata": {
        "isDbfsCommandResult": false
       },
       "removedWidgets": [],
       "type": "html"
      }
     },
     "output_type": "display_data"
    }
   ],
   "source": [
    "%scala\n",
    "val donut_json =\"\"\"\n",
    "\n",
    "{\n",
    "    \"id\": \"0001\",\n",
    "    \"type\": \"donut\",\n",
    "    \"name\": \"Cake\",\n",
    "    \"ppu\": 0.55,\n",
    "    \"batters\":\n",
    "        {\n",
    "            \"batter\":\n",
    "                [\n",
    "                    { \"id\": \"1001\", \"type\": \"Regular\" },\n",
    "                    { \"id\": \"1002\", \"type\": \"Chocolate\" },\n",
    "                    { \"id\": \"1003\", \"type\": \"Blueberry\" },\n",
    "                    { \"id\": \"1004\", \"type\": \"Devil's Food\" }\n",
    "                ]\n",
    "        },\n",
    "    \"topping\":\n",
    "        [\n",
    "            { \"id\": \"5001\", \"type\": \"None\" },\n",
    "            { \"id\": \"5002\", \"type\": \"Glazed\" },\n",
    "            { \"id\": \"5005\", \"type\": \"Sugar\" },\n",
    "            { \"id\": \"5007\", \"type\": \"Powdered Sugar\" },\n",
    "            { \"id\": \"5006\", \"type\": \"Chocolate with Sprinkles\" },\n",
    "            { \"id\": \"5003\", \"type\": \"Chocolate\" },\n",
    "            { \"id\": \"5004\", \"type\": \"Maple\" }\n",
    "        ]\n",
    "}\n",
    "\"\"\""
   ]
  },
  {
   "cell_type": "code",
   "execution_count": 0,
   "metadata": {
    "application/vnd.databricks.v1+cell": {
     "cellMetadata": {
      "byteLimit": 2048000,
      "rowLimit": 10000
     },
     "inputWidgets": {},
     "nuid": "be5f4656-7648-4c4b-9359-6621243fbf20",
     "showTitle": false,
     "title": ""
    },
    "jupyter": {
     "outputs_hidden": true
    }
   },
   "outputs": [
    {
     "output_type": "display_data",
     "data": {
      "text/html": [
       "<style scoped>\n",
       "  .ansiout {\n",
       "    display: block;\n",
       "    unicode-bidi: embed;\n",
       "    white-space: pre-wrap;\n",
       "    word-wrap: break-word;\n",
       "    word-break: break-all;\n",
       "    font-family: \"Menlo\", \"Monaco\", \"Consolas\", \"Ubuntu Mono\", \"Source Code Pro\", monospace;\n",
       "    font-size: 13px;\n",
       "    color: #555;\n",
       "    margin-left: 4px;\n",
       "    line-height: 19px;\n",
       "  }\n",
       "</style>\n",
       "<div class=\"ansiout\">+-------------------------------------------------------------------------------+----+----+----+-----------------------------------------------------------------------------------------------------------------------------------------+-----+\n",
       "batters                                                                        |id  |name|ppu |topping                                                                                                                                  |type |\n",
       "+-------------------------------------------------------------------------------+----+----+----+-----------------------------------------------------------------------------------------------------------------------------------------+-----+\n",
       "{[{1001, Regular}, {1002, Chocolate}, {1003, Blueberry}, {1004, Devil's Food}]}|0001|Cake|0.55|[{5001, None}, {5002, Glazed}, {5005, Sugar}, {5007, Powdered Sugar}, {5006, Chocolate with Sprinkles}, {5003, Chocolate}, {5004, Maple}]|donut|\n",
       "+-------------------------------------------------------------------------------+----+----+----+-----------------------------------------------------------------------------------------------------------------------------------------+-----+\n",
       "\n",
       "import sqlContext.implicits._\n",
       "jsonRDD: org.apache.spark.rdd.RDD[String] = ParallelCollectionRDD[13] at parallelize at command-4242265229042509:5\n",
       "jsonDF: org.apache.spark.sql.DataFrame = [batters: struct&lt;batter: array&lt;struct&lt;id:string,type:string&gt;&gt;&gt;, id: string ... 4 more fields]\n",
       "flattenDataframe: (df: org.apache.spark.sql.DataFrame)org.apache.spark.sql.DataFrame\n",
       "</div>"
      ]
     },
     "metadata": {
      "application/vnd.databricks.v1+output": {
       "addedWidgets": {},
       "arguments": {},
       "data": "<div class=\"ansiout\">+-------------------------------------------------------------------------------+----+----+----+-----------------------------------------------------------------------------------------------------------------------------------------+-----+\n|batters                                                                        |id  |name|ppu |topping                                                                                                                                  |type |\n+-------------------------------------------------------------------------------+----+----+----+-----------------------------------------------------------------------------------------------------------------------------------------+-----+\n|{[{1001, Regular}, {1002, Chocolate}, {1003, Blueberry}, {1004, Devil's Food}]}|0001|Cake|0.55|[{5001, None}, {5002, Glazed}, {5005, Sugar}, {5007, Powdered Sugar}, {5006, Chocolate with Sprinkles}, {5003, Chocolate}, {5004, Maple}]|donut|\n+-------------------------------------------------------------------------------+----+----+----+-----------------------------------------------------------------------------------------------------------------------------------------+-----+\n\nimport sqlContext.implicits._\njsonRDD: org.apache.spark.rdd.RDD[String] = ParallelCollectionRDD[13] at parallelize at command-4242265229042509:5\njsonDF: org.apache.spark.sql.DataFrame = [batters: struct&lt;batter: array&lt;struct&lt;id:string,type:string&gt;&gt;&gt;, id: string ... 4 more fields]\nflattenDataframe: (df: org.apache.spark.sql.DataFrame)org.apache.spark.sql.DataFrame\n</div>",
       "datasetInfos": [],
       "metadata": {
        "isDbfsCommandResult": false
       },
       "removedWidgets": [],
       "type": "html"
      }
     },
     "output_type": "display_data"
    }
   ],
   "source": [
    "%scala\n",
    " import sqlContext.implicits._\n",
    "  \n",
    "  \n",
    "  //creating rdd for the json\n",
    "  val jsonRDD = sc.parallelize(donut_json::Nil)\n",
    "  //creating DF for the json\n",
    "  // val jsonDF = sqlContext.read.json(jsonRDD)\n",
    "  val jsonDF = spark.read.json(spark.createDataset(donut_json :: Nil))\n",
    " \n",
    "  //Schema of the JSON DataFrame before Flattening\n",
    "  jsonDF.schema\n",
    "  \n",
    "  //Output DataFrame Before Flattening\n",
    "  jsonDF.show(false)\n",
    "  \n",
    "  //Function for exploding Array and StructType column\n",
    "  \n",
    "  def flattenDataframe(df: DataFrame): DataFrame = {\n",
    "\n",
    "    val fields = df.schema.fields\n",
    "    val fieldNames = fields.map(x => x.name)\n",
    "    val length = fields.length\n",
    "    \n",
    "    for(i <- 0 to fields.length-1){\n",
    "      val field = fields(i)\n",
    "      val fieldtype = field.dataType\n",
    "      val fieldName = field.name\n",
    "      fieldtype match {\n",
    "        case arrayType: ArrayType =>\n",
    "          val fieldNamesExcludingArray = fieldNames.filter(_!=fieldName)\n",
    "          val fieldNamesAndExplode = fieldNamesExcludingArray ++ Array(s\"explode_outer($fieldName) as $fieldName\")\n",
    "         // val fieldNamesToSelect = (fieldNamesExcludingArray ++ Array(s\"$fieldName.*\"))\n",
    "          val explodedDf = df.selectExpr(fieldNamesAndExplode:_*)\n",
    "          return flattenDataframe(explodedDf)\n",
    "        case structType: StructType =>\n",
    "          val childFieldnames = structType.fieldNames.map(childname => fieldName +\".\"+childname)\n",
    "          val newfieldNames = fieldNames.filter(_!= fieldName) ++ childFieldnames\n",
    "          val renamedcols = newfieldNames.map(x => (col(x.toString()).as(x.toString().replace(\".\", \"_\"))))\n",
    "         val explodedf = df.select(renamedcols:_*)\n",
    "          return flattenDataframe(explodedf)\n",
    "        case _ =>\n",
    "      }\n",
    "    }\n",
    "    df\n",
    "  }\n",
    "  "
   ]
  },
  {
   "cell_type": "code",
   "execution_count": 0,
   "metadata": {
    "application/vnd.databricks.v1+cell": {
     "cellMetadata": {
      "byteLimit": 2048000,
      "rowLimit": 10000
     },
     "inputWidgets": {},
     "nuid": "ca07d3f6-358b-479b-bb17-7f647bf3ff38",
     "showTitle": false,
     "title": ""
    }
   },
   "outputs": [
    {
     "output_type": "display_data",
     "data": {
      "text/html": [
       "<style scoped>\n",
       "  .ansiout {\n",
       "    display: block;\n",
       "    unicode-bidi: embed;\n",
       "    white-space: pre-wrap;\n",
       "    word-wrap: break-word;\n",
       "    word-break: break-all;\n",
       "    font-family: \"Menlo\", \"Monaco\", \"Consolas\", \"Ubuntu Mono\", \"Source Code Pro\", monospace;\n",
       "    font-size: 13px;\n",
       "    color: #555;\n",
       "    margin-left: 4px;\n",
       "    line-height: 19px;\n",
       "  }\n",
       "</style>\n",
       "<div class=\"ansiout\">+----+----+----+-----+----------+------------------------+-----------------+-------------------+\n",
       "id  |name|ppu |type |topping_id|topping_type            |batters_batter_id|batters_batter_type|\n",
       "+----+----+----+-----+----------+------------------------+-----------------+-------------------+\n",
       "0001|Cake|0.55|donut|5001      |None                    |1001             |Regular            |\n",
       "0001|Cake|0.55|donut|5001      |None                    |1002             |Chocolate          |\n",
       "0001|Cake|0.55|donut|5001      |None                    |1003             |Blueberry          |\n",
       "0001|Cake|0.55|donut|5001      |None                    |1004             |Devil's Food       |\n",
       "0001|Cake|0.55|donut|5002      |Glazed                  |1001             |Regular            |\n",
       "0001|Cake|0.55|donut|5002      |Glazed                  |1002             |Chocolate          |\n",
       "0001|Cake|0.55|donut|5002      |Glazed                  |1003             |Blueberry          |\n",
       "0001|Cake|0.55|donut|5002      |Glazed                  |1004             |Devil's Food       |\n",
       "0001|Cake|0.55|donut|5005      |Sugar                   |1001             |Regular            |\n",
       "0001|Cake|0.55|donut|5005      |Sugar                   |1002             |Chocolate          |\n",
       "0001|Cake|0.55|donut|5005      |Sugar                   |1003             |Blueberry          |\n",
       "0001|Cake|0.55|donut|5005      |Sugar                   |1004             |Devil's Food       |\n",
       "0001|Cake|0.55|donut|5007      |Powdered Sugar          |1001             |Regular            |\n",
       "0001|Cake|0.55|donut|5007      |Powdered Sugar          |1002             |Chocolate          |\n",
       "0001|Cake|0.55|donut|5007      |Powdered Sugar          |1003             |Blueberry          |\n",
       "0001|Cake|0.55|donut|5007      |Powdered Sugar          |1004             |Devil's Food       |\n",
       "0001|Cake|0.55|donut|5006      |Chocolate with Sprinkles|1001             |Regular            |\n",
       "0001|Cake|0.55|donut|5006      |Chocolate with Sprinkles|1002             |Chocolate          |\n",
       "0001|Cake|0.55|donut|5006      |Chocolate with Sprinkles|1003             |Blueberry          |\n",
       "0001|Cake|0.55|donut|5006      |Chocolate with Sprinkles|1004             |Devil's Food       |\n",
       "+----+----+----+-----+----------+------------------------+-----------------+-------------------+\n",
       "only showing top 20 rows\n",
       "\n",
       "flattendedJSON: org.apache.spark.sql.DataFrame = [id: string, name: string ... 6 more fields]\n",
       "</div>"
      ]
     },
     "metadata": {
      "application/vnd.databricks.v1+output": {
       "addedWidgets": {},
       "arguments": {},
       "data": "<div class=\"ansiout\">+----+----+----+-----+----------+------------------------+-----------------+-------------------+\n|id  |name|ppu |type |topping_id|topping_type            |batters_batter_id|batters_batter_type|\n+----+----+----+-----+----------+------------------------+-----------------+-------------------+\n|0001|Cake|0.55|donut|5001      |None                    |1001             |Regular            |\n|0001|Cake|0.55|donut|5001      |None                    |1002             |Chocolate          |\n|0001|Cake|0.55|donut|5001      |None                    |1003             |Blueberry          |\n|0001|Cake|0.55|donut|5001      |None                    |1004             |Devil's Food       |\n|0001|Cake|0.55|donut|5002      |Glazed                  |1001             |Regular            |\n|0001|Cake|0.55|donut|5002      |Glazed                  |1002             |Chocolate          |\n|0001|Cake|0.55|donut|5002      |Glazed                  |1003             |Blueberry          |\n|0001|Cake|0.55|donut|5002      |Glazed                  |1004             |Devil's Food       |\n|0001|Cake|0.55|donut|5005      |Sugar                   |1001             |Regular            |\n|0001|Cake|0.55|donut|5005      |Sugar                   |1002             |Chocolate          |\n|0001|Cake|0.55|donut|5005      |Sugar                   |1003             |Blueberry          |\n|0001|Cake|0.55|donut|5005      |Sugar                   |1004             |Devil's Food       |\n|0001|Cake|0.55|donut|5007      |Powdered Sugar          |1001             |Regular            |\n|0001|Cake|0.55|donut|5007      |Powdered Sugar          |1002             |Chocolate          |\n|0001|Cake|0.55|donut|5007      |Powdered Sugar          |1003             |Blueberry          |\n|0001|Cake|0.55|donut|5007      |Powdered Sugar          |1004             |Devil's Food       |\n|0001|Cake|0.55|donut|5006      |Chocolate with Sprinkles|1001             |Regular            |\n|0001|Cake|0.55|donut|5006      |Chocolate with Sprinkles|1002             |Chocolate          |\n|0001|Cake|0.55|donut|5006      |Chocolate with Sprinkles|1003             |Blueberry          |\n|0001|Cake|0.55|donut|5006      |Chocolate with Sprinkles|1004             |Devil's Food       |\n+----+----+----+-----+----------+------------------------+-----------------+-------------------+\nonly showing top 20 rows\n\nflattendedJSON: org.apache.spark.sql.DataFrame = [id: string, name: string ... 6 more fields]\n</div>",
       "datasetInfos": [
        {
         "name": "flattendedJSON",
         "schema": {
          "fields": [
           {
            "metadata": {},
            "name": "id",
            "nullable": true,
            "type": "string"
           },
           {
            "metadata": {},
            "name": "name",
            "nullable": true,
            "type": "string"
           },
           {
            "metadata": {},
            "name": "ppu",
            "nullable": true,
            "type": "double"
           },
           {
            "metadata": {},
            "name": "type",
            "nullable": true,
            "type": "string"
           },
           {
            "metadata": {},
            "name": "topping_id",
            "nullable": true,
            "type": "string"
           },
           {
            "metadata": {},
            "name": "topping_type",
            "nullable": true,
            "type": "string"
           },
           {
            "metadata": {},
            "name": "batters_batter_id",
            "nullable": true,
            "type": "string"
           },
           {
            "metadata": {},
            "name": "batters_batter_type",
            "nullable": true,
            "type": "string"
           }
          ],
          "type": "struct"
         },
         "tableIdentifier": null,
         "typeStr": "org.apache.spark.sql.DataFrame"
        }
       ],
       "metadata": {
        "isDbfsCommandResult": false
       },
       "removedWidgets": [],
       "type": "html"
      }
     },
     "output_type": "display_data"
    }
   ],
   "source": [
    "%scala\n",
    "val flattendedJSON = flattenDataframe(jsonDF)\n",
    "  //schema of the JSON after Flattening\n",
    "  flattendedJSON.schema\n",
    "  \n",
    "  //Output DataFrame After Flattening\n",
    "  flattendedJSON.show(false)"
   ]
  },
  {
   "cell_type": "markdown",
   "metadata": {
    "application/vnd.databricks.v1+cell": {
     "cellMetadata": {},
     "inputWidgets": {},
     "nuid": "b7af81bf-27fc-43e8-8ef0-8bc11f502cef",
     "showTitle": false,
     "title": ""
    }
   },
   "source": [
    "##### Option 2. Non-recursive. Donuts data"
   ]
  },
  {
   "cell_type": "code",
   "execution_count": 0,
   "metadata": {
    "application/vnd.databricks.v1+cell": {
     "cellMetadata": {
      "byteLimit": 2048000,
      "rowLimit": 10000
     },
     "inputWidgets": {},
     "nuid": "e3262ff1-6057-441b-81d8-e306bfd55c6c",
     "showTitle": false,
     "title": ""
    }
   },
   "outputs": [
    {
     "output_type": "display_data",
     "data": {
      "text/html": [
       "<style scoped>\n",
       "  .table-result-container {\n",
       "    max-height: 300px;\n",
       "    overflow: auto;\n",
       "  }\n",
       "  table, th, td {\n",
       "    border: 1px solid black;\n",
       "    border-collapse: collapse;\n",
       "  }\n",
       "  th, td {\n",
       "    padding: 5px;\n",
       "  }\n",
       "  th {\n",
       "    text-align: left;\n",
       "  }\n",
       "</style><div class='table-result-container'><table class='table-result'><thead style='background-color: white'><tr><th>path</th><th>name</th><th>size</th><th>modificationTime</th></tr></thead><tbody><tr><td>dbfs:/FileStore/donuts/donut1.json</td><td>donut1.json</td><td>1092</td><td>1706208948000</td></tr></tbody></table></div>"
      ]
     },
     "metadata": {
      "application/vnd.databricks.v1+output": {
       "addedWidgets": {},
       "aggData": [],
       "aggError": "",
       "aggOverflow": false,
       "aggSchema": [],
       "aggSeriesLimitReached": false,
       "aggType": "",
       "arguments": {},
       "columnCustomDisplayInfos": {},
       "data": [
        [
         "dbfs:/FileStore/donuts/donut1.json",
         "donut1.json",
         1092,
         1706208948000
        ]
       ],
       "datasetInfos": [],
       "dbfsResultPath": null,
       "isJsonSchema": true,
       "metadata": {
        "isDbfsCommandResult": false
       },
       "overflow": false,
       "plotOptions": {
        "customPlotOptions": {},
        "displayType": "table",
        "pivotAggregation": null,
        "pivotColumns": null,
        "xColumns": null,
        "yColumns": null
       },
       "removedWidgets": [],
       "schema": [
        {
         "metadata": "{}",
         "name": "path",
         "type": "\"string\""
        },
        {
         "metadata": "{}",
         "name": "name",
         "type": "\"string\""
        },
        {
         "metadata": "{}",
         "name": "size",
         "type": "\"long\""
        },
        {
         "metadata": "{}",
         "name": "modificationTime",
         "type": "\"long\""
        }
       ],
       "type": "table"
      }
     },
     "output_type": "display_data"
    }
   ],
   "source": [
    "%scala\n",
    "display(dbutils.fs.ls(\"/FileStore/donuts\"))"
   ]
  },
  {
   "cell_type": "code",
   "execution_count": 0,
   "metadata": {
    "application/vnd.databricks.v1+cell": {
     "cellMetadata": {
      "byteLimit": 2048000,
      "rowLimit": 10000
     },
     "inputWidgets": {},
     "nuid": "41331d81-afa4-4ee9-a15f-19e718e61115",
     "showTitle": false,
     "title": ""
    },
    "jupyter": {
     "outputs_hidden": true
    }
   },
   "outputs": [
    {
     "output_type": "display_data",
     "data": {
      "text/html": [
       "<style scoped>\n",
       "  .table-result-container {\n",
       "    max-height: 300px;\n",
       "    overflow: auto;\n",
       "  }\n",
       "  table, th, td {\n",
       "    border: 1px solid black;\n",
       "    border-collapse: collapse;\n",
       "  }\n",
       "  th, td {\n",
       "    padding: 5px;\n",
       "  }\n",
       "  th {\n",
       "    text-align: left;\n",
       "  }\n",
       "</style><div class='table-result-container'><table class='table-result'><thead style='background-color: white'><tr><th>batters</th><th>id</th><th>name</th><th>ppu</th><th>topping</th><th>type</th></tr></thead><tbody><tr><td>List(List(List(1001, Regular), List(1002, Chocolate), List(1003, Blueberry), List(1004, Devil's Food)))</td><td>0001</td><td>Cake</td><td>0.55</td><td>List(List(5001, None), List(5002, Glazed), List(5005, Sugar), List(5007, Powdered Sugar), List(5006, Chocolate with Sprinkles), List(5003, Chocolate), List(5004, Maple))</td><td>donut</td></tr></tbody></table></div>"
      ]
     },
     "metadata": {
      "application/vnd.databricks.v1+output": {
       "addedWidgets": {},
       "aggData": [],
       "aggError": "",
       "aggOverflow": false,
       "aggSchema": [],
       "aggSeriesLimitReached": false,
       "aggType": "",
       "arguments": {},
       "columnCustomDisplayInfos": {},
       "data": [
        [
         [
          [
           [
            "1001",
            "Regular"
           ],
           [
            "1002",
            "Chocolate"
           ],
           [
            "1003",
            "Blueberry"
           ],
           [
            "1004",
            "Devil's Food"
           ]
          ]
         ],
         "0001",
         "Cake",
         0.55,
         [
          [
           "5001",
           "None"
          ],
          [
           "5002",
           "Glazed"
          ],
          [
           "5005",
           "Sugar"
          ],
          [
           "5007",
           "Powdered Sugar"
          ],
          [
           "5006",
           "Chocolate with Sprinkles"
          ],
          [
           "5003",
           "Chocolate"
          ],
          [
           "5004",
           "Maple"
          ]
         ],
         "donut"
        ]
       ],
       "datasetInfos": [],
       "dbfsResultPath": null,
       "isJsonSchema": true,
       "metadata": {},
       "overflow": false,
       "plotOptions": {
        "customPlotOptions": {},
        "displayType": "table",
        "pivotAggregation": null,
        "pivotColumns": null,
        "xColumns": null,
        "yColumns": null
       },
       "removedWidgets": [],
       "schema": [
        {
         "metadata": "{}",
         "name": "batters",
         "type": "{\"type\":\"struct\",\"fields\":[{\"name\":\"batter\",\"type\":{\"type\":\"array\",\"elementType\":{\"type\":\"struct\",\"fields\":[{\"name\":\"id\",\"type\":\"string\",\"nullable\":true,\"metadata\":{}},{\"name\":\"type\",\"type\":\"string\",\"nullable\":true,\"metadata\":{}}]},\"containsNull\":true},\"nullable\":true,\"metadata\":{}}]}"
        },
        {
         "metadata": "{}",
         "name": "id",
         "type": "\"string\""
        },
        {
         "metadata": "{}",
         "name": "name",
         "type": "\"string\""
        },
        {
         "metadata": "{}",
         "name": "ppu",
         "type": "\"double\""
        },
        {
         "metadata": "{}",
         "name": "topping",
         "type": "{\"type\":\"array\",\"elementType\":{\"type\":\"struct\",\"fields\":[{\"name\":\"id\",\"type\":\"string\",\"nullable\":true,\"metadata\":{}},{\"name\":\"type\",\"type\":\"string\",\"nullable\":true,\"metadata\":{}}]},\"containsNull\":true}"
        },
        {
         "metadata": "{}",
         "name": "type",
         "type": "\"string\""
        }
       ],
       "type": "table"
      }
     },
     "output_type": "display_data"
    }
   ],
   "source": [
    "%python\n",
    "df2 = spark.read.option(\"multiline\", \"true\").json(\"dbfs:/FileStore/donuts/donut1.json\")\n",
    "display(df2)"
   ]
  },
  {
   "cell_type": "code",
   "execution_count": 0,
   "metadata": {
    "application/vnd.databricks.v1+cell": {
     "cellMetadata": {
      "byteLimit": 2048000,
      "rowLimit": 10000
     },
     "inputWidgets": {},
     "nuid": "1114a2b6-b319-44a4-8017-561128a399d2",
     "showTitle": false,
     "title": ""
    }
   },
   "outputs": [],
   "source": [
    "%python\n",
    "from pyspark.sql.types import *\n",
    "from pyspark.sql.functions import *\n",
    "\n",
    "def flatten(df):\n",
    "    # compute Complex Fields (Lists and Structs) in Schema   \n",
    "   complex_fields = dict([(field.name, field.dataType)\n",
    "                             for field in df.schema.fields\n",
    "                             if type(field.dataType) == ArrayType or  type(field.dataType) == StructType])\n",
    "   while len(complex_fields)!=0:\n",
    "      col_name=list(complex_fields.keys())[0]\n",
    "      print (\"Processing :\"+col_name+\" Type : \"+str(type(complex_fields[col_name])))\n",
    "    \n",
    "    #    if StructType then convert all sub element to columns.\n",
    "    #    i.e. flatten structs\n",
    "      if (type(complex_fields[col_name]) == StructType):\n",
    "         expanded = [col(col_name+'.'+k).alias(col_name+'_'+k) for k in [ n.name for n in  complex_fields[col_name]]]\n",
    "         df=df.select(\"*\", *expanded).drop(col_name)\n",
    "    \n",
    "    #    if ArrayType then add the Array Elements as Rows using the explode function\n",
    "    #    i.e. explode Arrays\n",
    "      elif (type(complex_fields[col_name]) == ArrayType):    \n",
    "         df=df.withColumn(col_name,explode_outer(col_name))\n",
    "    \n",
    "    #    recompute remaining Complex Fields in Schema       \n",
    "      complex_fields = dict([(field.name, field.dataType)\n",
    "                             for field in df.schema.fields\n",
    "                             if type(field.dataType) == ArrayType or  type(field.dataType) == StructType])\n",
    "   return df"
   ]
  },
  {
   "cell_type": "code",
   "execution_count": 0,
   "metadata": {
    "application/vnd.databricks.v1+cell": {
     "cellMetadata": {
      "byteLimit": 2048000,
      "rowLimit": 10000
     },
     "inputWidgets": {},
     "nuid": "a2d259c6-47d5-4b4e-a56c-917aa6e90f66",
     "showTitle": false,
     "title": ""
    }
   },
   "outputs": [
    {
     "output_type": "stream",
     "name": "stdout",
     "output_type": "stream",
     "text": [
      "Processing :batters Type : <class 'pyspark.sql.types.StructType'>\nProcessing :topping Type : <class 'pyspark.sql.types.ArrayType'>\nProcessing :topping Type : <class 'pyspark.sql.types.StructType'>\nProcessing :batters_batter Type : <class 'pyspark.sql.types.ArrayType'>\nProcessing :batters_batter Type : <class 'pyspark.sql.types.StructType'>\n"
     ]
    },
    {
     "output_type": "display_data",
     "data": {
      "text/html": [
       "<style scoped>\n",
       "  .table-result-container {\n",
       "    max-height: 300px;\n",
       "    overflow: auto;\n",
       "  }\n",
       "  table, th, td {\n",
       "    border: 1px solid black;\n",
       "    border-collapse: collapse;\n",
       "  }\n",
       "  th, td {\n",
       "    padding: 5px;\n",
       "  }\n",
       "  th {\n",
       "    text-align: left;\n",
       "  }\n",
       "</style><div class='table-result-container'><table class='table-result'><thead style='background-color: white'><tr><th>id</th><th>name</th><th>ppu</th><th>type</th><th>topping_id</th><th>topping_type</th><th>batters_batter_id</th><th>batters_batter_type</th></tr></thead><tbody><tr><td>0001</td><td>Cake</td><td>0.55</td><td>donut</td><td>5001</td><td>None</td><td>1001</td><td>Regular</td></tr><tr><td>0001</td><td>Cake</td><td>0.55</td><td>donut</td><td>5001</td><td>None</td><td>1002</td><td>Chocolate</td></tr><tr><td>0001</td><td>Cake</td><td>0.55</td><td>donut</td><td>5001</td><td>None</td><td>1003</td><td>Blueberry</td></tr><tr><td>0001</td><td>Cake</td><td>0.55</td><td>donut</td><td>5001</td><td>None</td><td>1004</td><td>Devil's Food</td></tr><tr><td>0001</td><td>Cake</td><td>0.55</td><td>donut</td><td>5002</td><td>Glazed</td><td>1001</td><td>Regular</td></tr><tr><td>0001</td><td>Cake</td><td>0.55</td><td>donut</td><td>5002</td><td>Glazed</td><td>1002</td><td>Chocolate</td></tr><tr><td>0001</td><td>Cake</td><td>0.55</td><td>donut</td><td>5002</td><td>Glazed</td><td>1003</td><td>Blueberry</td></tr><tr><td>0001</td><td>Cake</td><td>0.55</td><td>donut</td><td>5002</td><td>Glazed</td><td>1004</td><td>Devil's Food</td></tr><tr><td>0001</td><td>Cake</td><td>0.55</td><td>donut</td><td>5005</td><td>Sugar</td><td>1001</td><td>Regular</td></tr><tr><td>0001</td><td>Cake</td><td>0.55</td><td>donut</td><td>5005</td><td>Sugar</td><td>1002</td><td>Chocolate</td></tr><tr><td>0001</td><td>Cake</td><td>0.55</td><td>donut</td><td>5005</td><td>Sugar</td><td>1003</td><td>Blueberry</td></tr><tr><td>0001</td><td>Cake</td><td>0.55</td><td>donut</td><td>5005</td><td>Sugar</td><td>1004</td><td>Devil's Food</td></tr><tr><td>0001</td><td>Cake</td><td>0.55</td><td>donut</td><td>5007</td><td>Powdered Sugar</td><td>1001</td><td>Regular</td></tr><tr><td>0001</td><td>Cake</td><td>0.55</td><td>donut</td><td>5007</td><td>Powdered Sugar</td><td>1002</td><td>Chocolate</td></tr><tr><td>0001</td><td>Cake</td><td>0.55</td><td>donut</td><td>5007</td><td>Powdered Sugar</td><td>1003</td><td>Blueberry</td></tr><tr><td>0001</td><td>Cake</td><td>0.55</td><td>donut</td><td>5007</td><td>Powdered Sugar</td><td>1004</td><td>Devil's Food</td></tr><tr><td>0001</td><td>Cake</td><td>0.55</td><td>donut</td><td>5006</td><td>Chocolate with Sprinkles</td><td>1001</td><td>Regular</td></tr><tr><td>0001</td><td>Cake</td><td>0.55</td><td>donut</td><td>5006</td><td>Chocolate with Sprinkles</td><td>1002</td><td>Chocolate</td></tr><tr><td>0001</td><td>Cake</td><td>0.55</td><td>donut</td><td>5006</td><td>Chocolate with Sprinkles</td><td>1003</td><td>Blueberry</td></tr><tr><td>0001</td><td>Cake</td><td>0.55</td><td>donut</td><td>5006</td><td>Chocolate with Sprinkles</td><td>1004</td><td>Devil's Food</td></tr><tr><td>0001</td><td>Cake</td><td>0.55</td><td>donut</td><td>5003</td><td>Chocolate</td><td>1001</td><td>Regular</td></tr><tr><td>0001</td><td>Cake</td><td>0.55</td><td>donut</td><td>5003</td><td>Chocolate</td><td>1002</td><td>Chocolate</td></tr><tr><td>0001</td><td>Cake</td><td>0.55</td><td>donut</td><td>5003</td><td>Chocolate</td><td>1003</td><td>Blueberry</td></tr><tr><td>0001</td><td>Cake</td><td>0.55</td><td>donut</td><td>5003</td><td>Chocolate</td><td>1004</td><td>Devil's Food</td></tr><tr><td>0001</td><td>Cake</td><td>0.55</td><td>donut</td><td>5004</td><td>Maple</td><td>1001</td><td>Regular</td></tr><tr><td>0001</td><td>Cake</td><td>0.55</td><td>donut</td><td>5004</td><td>Maple</td><td>1002</td><td>Chocolate</td></tr><tr><td>0001</td><td>Cake</td><td>0.55</td><td>donut</td><td>5004</td><td>Maple</td><td>1003</td><td>Blueberry</td></tr><tr><td>0001</td><td>Cake</td><td>0.55</td><td>donut</td><td>5004</td><td>Maple</td><td>1004</td><td>Devil's Food</td></tr></tbody></table></div>"
      ]
     },
     "metadata": {
      "application/vnd.databricks.v1+output": {
       "addedWidgets": {},
       "aggData": [],
       "aggError": "",
       "aggOverflow": false,
       "aggSchema": [],
       "aggSeriesLimitReached": false,
       "aggType": "",
       "arguments": {},
       "columnCustomDisplayInfos": {},
       "data": [
        [
         "0001",
         "Cake",
         0.55,
         "donut",
         "5001",
         "None",
         "1001",
         "Regular"
        ],
        [
         "0001",
         "Cake",
         0.55,
         "donut",
         "5001",
         "None",
         "1002",
         "Chocolate"
        ],
        [
         "0001",
         "Cake",
         0.55,
         "donut",
         "5001",
         "None",
         "1003",
         "Blueberry"
        ],
        [
         "0001",
         "Cake",
         0.55,
         "donut",
         "5001",
         "None",
         "1004",
         "Devil's Food"
        ],
        [
         "0001",
         "Cake",
         0.55,
         "donut",
         "5002",
         "Glazed",
         "1001",
         "Regular"
        ],
        [
         "0001",
         "Cake",
         0.55,
         "donut",
         "5002",
         "Glazed",
         "1002",
         "Chocolate"
        ],
        [
         "0001",
         "Cake",
         0.55,
         "donut",
         "5002",
         "Glazed",
         "1003",
         "Blueberry"
        ],
        [
         "0001",
         "Cake",
         0.55,
         "donut",
         "5002",
         "Glazed",
         "1004",
         "Devil's Food"
        ],
        [
         "0001",
         "Cake",
         0.55,
         "donut",
         "5005",
         "Sugar",
         "1001",
         "Regular"
        ],
        [
         "0001",
         "Cake",
         0.55,
         "donut",
         "5005",
         "Sugar",
         "1002",
         "Chocolate"
        ],
        [
         "0001",
         "Cake",
         0.55,
         "donut",
         "5005",
         "Sugar",
         "1003",
         "Blueberry"
        ],
        [
         "0001",
         "Cake",
         0.55,
         "donut",
         "5005",
         "Sugar",
         "1004",
         "Devil's Food"
        ],
        [
         "0001",
         "Cake",
         0.55,
         "donut",
         "5007",
         "Powdered Sugar",
         "1001",
         "Regular"
        ],
        [
         "0001",
         "Cake",
         0.55,
         "donut",
         "5007",
         "Powdered Sugar",
         "1002",
         "Chocolate"
        ],
        [
         "0001",
         "Cake",
         0.55,
         "donut",
         "5007",
         "Powdered Sugar",
         "1003",
         "Blueberry"
        ],
        [
         "0001",
         "Cake",
         0.55,
         "donut",
         "5007",
         "Powdered Sugar",
         "1004",
         "Devil's Food"
        ],
        [
         "0001",
         "Cake",
         0.55,
         "donut",
         "5006",
         "Chocolate with Sprinkles",
         "1001",
         "Regular"
        ],
        [
         "0001",
         "Cake",
         0.55,
         "donut",
         "5006",
         "Chocolate with Sprinkles",
         "1002",
         "Chocolate"
        ],
        [
         "0001",
         "Cake",
         0.55,
         "donut",
         "5006",
         "Chocolate with Sprinkles",
         "1003",
         "Blueberry"
        ],
        [
         "0001",
         "Cake",
         0.55,
         "donut",
         "5006",
         "Chocolate with Sprinkles",
         "1004",
         "Devil's Food"
        ],
        [
         "0001",
         "Cake",
         0.55,
         "donut",
         "5003",
         "Chocolate",
         "1001",
         "Regular"
        ],
        [
         "0001",
         "Cake",
         0.55,
         "donut",
         "5003",
         "Chocolate",
         "1002",
         "Chocolate"
        ],
        [
         "0001",
         "Cake",
         0.55,
         "donut",
         "5003",
         "Chocolate",
         "1003",
         "Blueberry"
        ],
        [
         "0001",
         "Cake",
         0.55,
         "donut",
         "5003",
         "Chocolate",
         "1004",
         "Devil's Food"
        ],
        [
         "0001",
         "Cake",
         0.55,
         "donut",
         "5004",
         "Maple",
         "1001",
         "Regular"
        ],
        [
         "0001",
         "Cake",
         0.55,
         "donut",
         "5004",
         "Maple",
         "1002",
         "Chocolate"
        ],
        [
         "0001",
         "Cake",
         0.55,
         "donut",
         "5004",
         "Maple",
         "1003",
         "Blueberry"
        ],
        [
         "0001",
         "Cake",
         0.55,
         "donut",
         "5004",
         "Maple",
         "1004",
         "Devil's Food"
        ]
       ],
       "datasetInfos": [],
       "dbfsResultPath": null,
       "isJsonSchema": true,
       "metadata": {},
       "overflow": false,
       "plotOptions": {
        "customPlotOptions": {},
        "displayType": "table",
        "pivotAggregation": null,
        "pivotColumns": null,
        "xColumns": null,
        "yColumns": null
       },
       "removedWidgets": [],
       "schema": [
        {
         "metadata": "{}",
         "name": "id",
         "type": "\"string\""
        },
        {
         "metadata": "{}",
         "name": "name",
         "type": "\"string\""
        },
        {
         "metadata": "{}",
         "name": "ppu",
         "type": "\"double\""
        },
        {
         "metadata": "{}",
         "name": "type",
         "type": "\"string\""
        },
        {
         "metadata": "{}",
         "name": "topping_id",
         "type": "\"string\""
        },
        {
         "metadata": "{}",
         "name": "topping_type",
         "type": "\"string\""
        },
        {
         "metadata": "{}",
         "name": "batters_batter_id",
         "type": "\"string\""
        },
        {
         "metadata": "{}",
         "name": "batters_batter_type",
         "type": "\"string\""
        }
       ],
       "type": "table"
      }
     },
     "output_type": "display_data"
    }
   ],
   "source": [
    "%python\n",
    "df2_flatten = flatten(df2)\n",
    "display(df2_flatten)"
   ]
  },
  {
   "cell_type": "markdown",
   "metadata": {
    "application/vnd.databricks.v1+cell": {
     "cellMetadata": {},
     "inputWidgets": {},
     "nuid": "458932a7-cd39-494f-8645-43f450298505",
     "showTitle": false,
     "title": ""
    }
   },
   "source": [
    "##### Option 3. Recursive with `json4s`"
   ]
  },
  {
   "cell_type": "code",
   "execution_count": 0,
   "metadata": {
    "application/vnd.databricks.v1+cell": {
     "cellMetadata": {},
     "inputWidgets": {},
     "nuid": "51dffa74-3a22-4bfe-8d0e-bc92690fe3cf",
     "showTitle": false,
     "title": ""
    }
   },
   "outputs": [],
   "source": [
    "%scala\n",
    "import org.json4s._\n",
    "import org.json4s.native.JsonMethods._\n",
    "\n",
    "object JsonFlattener {\n",
    "  def flatten(jsonString: String): Map[String, JValue] = {\n",
    "    val json = parse(jsonString)\n",
    "    flatten(json)\n",
    "  }\n",
    "\n",
    "  def flatten(json: JValue): Map[String, JValue] = {\n",
    "    json match {\n",
    "      case JObject(fields) =>\n",
    "        fields.flatMap {\n",
    "          case (key, value) =>\n",
    "            flatten(value).map {\n",
    "              case (nestedKey, nestedValue) =>\n",
    "                s\"$key.$nestedKey\" -> nestedValue\n",
    "            }\n",
    "        }.toMap\n",
    "\n",
    "      case JArray(elements) =>\n",
    "        elements.zipWithIndex.flatMap {\n",
    "          case (value, index) =>\n",
    "            flatten(value).map {\n",
    "              case (nestedKey, nestedValue) =>\n",
    "                s\"$index.$nestedKey\" -> nestedValue\n",
    "            }\n",
    "        }.toMap\n",
    "\n",
    "      case JNothing | JNull =>\n",
    "        Map.empty\n",
    "\n",
    "      case other =>\n",
    "        Map(\"\" -> other)\n",
    "    }\n",
    "  }\n",
    "}"
   ]
  },
  {
   "cell_type": "code",
   "execution_count": 0,
   "metadata": {
    "application/vnd.databricks.v1+cell": {
     "cellMetadata": {},
     "inputWidgets": {},
     "nuid": "52c95e34-8132-43db-9505-439a2bd573b3",
     "showTitle": false,
     "title": ""
    }
   },
   "outputs": [],
   "source": [
    "%scala\n",
    "val jsonString = \"\"\"{\"a\": {\"b\": 1, \"c\": 2}, \"d\": [3, 4]}\"\"\"\n",
    "    val flattenedMap = flatten(jsonString)\n",
    "    flattenedMap.foreach(println)"
   ]
  }
 ],
 "metadata": {
  "application/vnd.databricks.v1+notebook": {
   "dashboards": [],
   "language": "python",
   "notebookMetadata": {
    "pythonIndentUnit": 4
   },
   "notebookName": "JSON to flattened DataFrame",
   "widgets": {}
  }
 },
 "nbformat": 4,
 "nbformat_minor": 0
}
