{
 "cells": [
  {
   "cell_type": "code",
   "execution_count": 0,
   "metadata": {
    "application/vnd.databricks.v1+cell": {
     "cellMetadata": {},
     "inputWidgets": {},
     "nuid": "aa7a95fd-ecda-4b8f-bdf0-cefb59f64aea",
     "showTitle": false,
     "title": ""
    }
   },
   "outputs": [],
   "source": [
    "%scala\n",
    "import org.json4s._\n",
    "import org.json4s.native.JsonMethods._\n",
    "\n",
    "object JsonFlattener {\n",
    "  def flatten(jsonString: String): Map[String, JValue] = {\n",
    "    val json = parse(jsonString)\n",
    "    flatten(json)\n",
    "  }\n",
    "\n",
    "  def flatten(json: JValue): Map[String, JValue] = {\n",
    "    json match {\n",
    "      case JObject(fields) =>\n",
    "        fields.flatMap {\n",
    "          case (key, value) =>\n",
    "            flatten(value).map {\n",
    "              case (nestedKey, nestedValue) =>\n",
    "                s\"$key.$nestedKey\" -> nestedValue\n",
    "            }\n",
    "        }.toMap\n",
    "\n",
    "      case JArray(elements) =>\n",
    "        elements.zipWithIndex.flatMap {\n",
    "          case (value, index) =>\n",
    "            flatten(value).map {\n",
    "              case (nestedKey, nestedValue) =>\n",
    "                s\"$index.$nestedKey\" -> nestedValue\n",
    "            }\n",
    "        }.toMap\n",
    "\n",
    "      case JNothing | JNull =>\n",
    "        Map.empty\n",
    "\n",
    "      case other =>\n",
    "        Map(\"\" -> other)\n",
    "    }\n",
    "  }\n",
    "}"
   ]
  },
  {
   "cell_type": "code",
   "execution_count": 0,
   "metadata": {
    "application/vnd.databricks.v1+cell": {
     "cellMetadata": {},
     "inputWidgets": {},
     "nuid": "83ac99fe-fbaa-4b63-862d-34496b67d29f",
     "showTitle": false,
     "title": ""
    }
   },
   "outputs": [],
   "source": [
    "%scala\n",
    "val jsonString = \"\"\"{\"a\": {\"b\": 1, \"c\": 2}, \"d\": [3, 4]}\"\"\"\n",
    "    val flattenedMap = flatten(jsonString)\n",
    "    flattenedMap.foreach(println)"
   ]
  }
 ],
 "metadata": {
  "application/vnd.databricks.v1+notebook": {
   "dashboards": [],
   "language": "python",
   "notebookMetadata": {
    "pythonIndentUnit": 4
   },
   "notebookName": "Untitled Notebook 2024-01-25 16:34:15",
   "widgets": {}
  }
 },
 "nbformat": 4,
 "nbformat_minor": 0
}
