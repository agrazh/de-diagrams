{
 "cells": [
  {
   "cell_type": "code",
   "execution_count": 0,
   "metadata": {
    "application/vnd.databricks.v1+cell": {
     "cellMetadata": {
      "byteLimit": 2048000,
      "rowLimit": 10000
     },
     "inputWidgets": {},
     "nuid": "47bb4c5d-00e6-4086-9ec5-ad50dcb3f753",
     "showTitle": false,
     "title": ""
    },
    "jupyter": {
     "outputs_hidden": true
    }
   },
   "outputs": [],
   "source": [
    "%scala\n",
    "display(dbutils.fs.ls(\"/mnt/storage41623/raw/donuts\"))"
   ]
  },
  {
   "cell_type": "code",
   "execution_count": 0,
   "metadata": {
    "application/vnd.databricks.v1+cell": {
     "cellMetadata": {
      "byteLimit": 2048000,
      "rowLimit": 10000
     },
     "inputWidgets": {},
     "nuid": "4940eccd-93a9-4258-8924-bcdf37283e37",
     "showTitle": false,
     "title": ""
    },
    "jupyter": {
     "outputs_hidden": true
    }
   },
   "outputs": [
    {
     "output_type": "display_data",
     "data": {
      "text/html": [
       "<style scoped>\n",
       "  .ansiout {\n",
       "    display: block;\n",
       "    unicode-bidi: embed;\n",
       "    white-space: pre-wrap;\n",
       "    word-wrap: break-word;\n",
       "    word-break: break-all;\n",
       "    font-family: \"Menlo\", \"Monaco\", \"Consolas\", \"Ubuntu Mono\", \"Source Code Pro\", monospace;\n",
       "    font-size: 13px;\n",
       "    color: #555;\n",
       "    margin-left: 4px;\n",
       "    line-height: 19px;\n",
       "  }\n",
       "</style>\n",
       "<div class=\"ansiout\">import scala.io.Source\n",
       "src: scala.io.BufferedSource = &lt;iterator&gt;\n",
       "jContent: String =\n",
       "{\n",
       "    &quot;id&quot;: &quot;0007&quot;,\n",
       "    &quot;type&quot;: true,\n",
       "    &quot;name&quot;: &quot;Lemon Cake&quot;,\n",
       "    &quot;ppu&quot;: 0.45,\n",
       "    &quot;batters&quot;:\n",
       "        &quot;batter&quot;: [\n",
       "            {\n",
       "                &quot;id&quot;: &quot;1001&quot;,\n",
       "                &quot;type&quot;: &quot;Regular&quot;\n",
       "            },\n",
       "            {\n",
       "                &quot;id&quot;: &quot;1002&quot;,\n",
       "                &quot;type&quot;: &quot;Chocolate&quot;\n",
       "            },\n",
       "            {\n",
       "                &quot;id&quot;: &quot;1003&quot;,\n",
       "                &quot;type&quot;: &quot;Blueberry&quot;\n",
       "            },\n",
       "            {\n",
       "                &quot;id&quot;: &quot;1004&quot;,\n",
       "                &quot;type&quot;: &quot;Devil's Food&quot;\n",
       "            }\n",
       "        ]\n",
       "    },\n",
       "    &quot;topping&quot;: [\n",
       "        {\n",
       "            &quot;id&quot;: &quot;5001&quot;,\n",
       "            &quot;type&quot;: &quot;None&quot;\n",
       "        },\n",
       "        {\n",
       "            &quot;id&quot;: &quot;5002&quot;,\n",
       "            &quot;type&quot;: &quot;Glazed&quot;\n",
       "        },\n",
       "        {\n",
       "            &quot;id&quot;: &quot;5005&quot;,\n",
       "            &quot;type&quot;: &quot;Sugar&quot;\n",
       "        },\n",
       "        {\n",
       "            &quot;id&quot;: &quot;5007&quot;,\n",
       "            &quot;type&quot;: &quot;Powdered Sugar&quot;\n",
       "        },\n",
       "        {\n",
       "            &quot;id&quot;: &quot;5006&quot;,\n",
       "            &quot;type&quot;: &quot;Chocolate with Sprinkles&quot;\n",
       "        },\n",
       "        {\n",
       "            &quot;id&quot;: &quot;5003&quot;,\n",
       "            &quot;type&quot;: &quot;Chocolate&quot;\n",
       "        },\n",
       "        {\n",
       "            &quot;id&quot;: &quot;5004&quot;,\n",
       "            &quot;type&quot;: &quot;Maple&quot;\n",
       "        }\n",
       "    ]\n",
       "}\n",
       "</div>"
      ]
     },
     "metadata": {
      "application/vnd.databricks.v1+output": {
       "addedWidgets": {},
       "arguments": {},
       "data": "<div class=\"ansiout\">import scala.io.Source\nsrc: scala.io.BufferedSource = &lt;iterator&gt;\njContent: String =\n{\n    &quot;id&quot;: &quot;0007&quot;,\n    &quot;type&quot;: true,\n    &quot;name&quot;: &quot;Lemon Cake&quot;,\n    &quot;ppu&quot;: 0.45,\n    &quot;batters&quot;:\n        &quot;batter&quot;: [\n            {\n                &quot;id&quot;: &quot;1001&quot;,\n                &quot;type&quot;: &quot;Regular&quot;\n            },\n            {\n                &quot;id&quot;: &quot;1002&quot;,\n                &quot;type&quot;: &quot;Chocolate&quot;\n            },\n            {\n                &quot;id&quot;: &quot;1003&quot;,\n                &quot;type&quot;: &quot;Blueberry&quot;\n            },\n            {\n                &quot;id&quot;: &quot;1004&quot;,\n                &quot;type&quot;: &quot;Devil's Food&quot;\n            }\n        ]\n    },\n    &quot;topping&quot;: [\n        {\n            &quot;id&quot;: &quot;5001&quot;,\n            &quot;type&quot;: &quot;None&quot;\n        },\n        {\n            &quot;id&quot;: &quot;5002&quot;,\n            &quot;type&quot;: &quot;Glazed&quot;\n        },\n        {\n            &quot;id&quot;: &quot;5005&quot;,\n            &quot;type&quot;: &quot;Sugar&quot;\n        },\n        {\n            &quot;id&quot;: &quot;5007&quot;,\n            &quot;type&quot;: &quot;Powdered Sugar&quot;\n        },\n        {\n            &quot;id&quot;: &quot;5006&quot;,\n            &quot;type&quot;: &quot;Chocolate with Sprinkles&quot;\n        },\n        {\n            &quot;id&quot;: &quot;5003&quot;,\n            &quot;type&quot;: &quot;Chocolate&quot;\n        },\n        {\n            &quot;id&quot;: &quot;5004&quot;,\n            &quot;type&quot;: &quot;Maple&quot;\n        }\n    ]\n}\n</div>",
       "datasetInfos": [],
       "metadata": {
        "isDbfsCommandResult": false
       },
       "removedWidgets": [],
       "type": "html"
      }
     },
     "output_type": "display_data"
    }
   ],
   "source": [
    "%scala\n",
    "import scala.io.Source\n",
    "\n",
    "val src = Source.fromFile(\"/dbfs/mnt/storage41623/raw/donuts/donut7-bad.json\", \"UTF-8\")\n",
    "val jContent = try src.mkString finally src.close()"
   ]
  },
  {
   "cell_type": "code",
   "execution_count": 0,
   "metadata": {
    "application/vnd.databricks.v1+cell": {
     "cellMetadata": {
      "byteLimit": 2048000,
      "rowLimit": 10000
     },
     "inputWidgets": {},
     "nuid": "aeb4b268-fb09-4972-91dd-937d0b290543",
     "showTitle": false,
     "title": ""
    }
   },
   "outputs": [
    {
     "output_type": "display_data",
     "data": {
      "text/html": [
       "<style scoped>\n",
       "  .ansiout {\n",
       "    display: block;\n",
       "    unicode-bidi: embed;\n",
       "    white-space: pre-wrap;\n",
       "    word-wrap: break-word;\n",
       "    word-break: break-all;\n",
       "    font-family: \"Menlo\", \"Monaco\", \"Consolas\", \"Ubuntu Mono\", \"Source Code Pro\", monospace;\n",
       "    font-size: 13px;\n",
       "    color: #555;\n",
       "    margin-left: 4px;\n",
       "    line-height: 19px;\n",
       "  }\n",
       "</style>\n",
       "<div class=\"ansiout\">import org.json.{JSONObject, JSONException}\n",
       "isValidJSON: (json: String)Boolean\n",
       "</div>"
      ]
     },
     "metadata": {
      "application/vnd.databricks.v1+output": {
       "addedWidgets": {},
       "arguments": {},
       "data": "<div class=\"ansiout\">import org.json.{JSONObject, JSONException}\nisValidJSON: (json: String)Boolean\n</div>",
       "datasetInfos": [],
       "metadata": {
        "isDbfsCommandResult": false
       },
       "removedWidgets": [],
       "type": "html"
      }
     },
     "output_type": "display_data"
    }
   ],
   "source": [
    "%scala\n",
    "import org.json.{JSONObject, JSONException}\n",
    "\n",
    "def isValidJSON(json: String): Boolean = {\n",
    "  try {\n",
    "    new JSONObject(json)\n",
    "  } catch {\n",
    "    case e: JSONException => {\n",
    "      println(\"<jfile_name> is not valid JSON\")\n",
    "      return false\n",
    "    }\n",
    "  }\n",
    "    return true\n",
    "}"
   ]
  },
  {
   "cell_type": "code",
   "execution_count": 0,
   "metadata": {
    "application/vnd.databricks.v1+cell": {
     "cellMetadata": {
      "byteLimit": 2048000,
      "rowLimit": 10000
     },
     "inputWidgets": {},
     "nuid": "8d23fe86-7f8e-4eba-8c64-84ef82e4d09b",
     "showTitle": false,
     "title": ""
    }
   },
   "outputs": [
    {
     "output_type": "display_data",
     "data": {
      "text/html": [
       "<style scoped>\n",
       "  .ansiout {\n",
       "    display: block;\n",
       "    unicode-bidi: embed;\n",
       "    white-space: pre-wrap;\n",
       "    word-wrap: break-word;\n",
       "    word-break: break-all;\n",
       "    font-family: \"Menlo\", \"Monaco\", \"Consolas\", \"Ubuntu Mono\", \"Source Code Pro\", monospace;\n",
       "    font-size: 13px;\n",
       "    color: #555;\n",
       "    margin-left: 4px;\n",
       "    line-height: 19px;\n",
       "  }\n",
       "</style>\n",
       "<div class=\"ansiout\">&lt;jfile_name&gt; is not valid JSON\n",
       "res5: Boolean = false\n",
       "</div>"
      ]
     },
     "metadata": {
      "application/vnd.databricks.v1+output": {
       "addedWidgets": {},
       "arguments": {},
       "data": "<div class=\"ansiout\">&lt;jfile_name&gt; is not valid JSON\nres5: Boolean = false\n</div>",
       "datasetInfos": [],
       "metadata": {
        "isDbfsCommandResult": false
       },
       "removedWidgets": [],
       "type": "html"
      }
     },
     "output_type": "display_data"
    }
   ],
   "source": [
    "%scala\n",
    "isValidJSON(jContent)"
   ]
  },
  {
   "cell_type": "code",
   "execution_count": 0,
   "metadata": {
    "application/vnd.databricks.v1+cell": {
     "cellMetadata": {
      "byteLimit": 2048000,
      "rowLimit": 10000
     },
     "inputWidgets": {},
     "nuid": "7f502052-7b2d-4e7a-bc1b-3d05643eea59",
     "showTitle": false,
     "title": ""
    }
   },
   "outputs": [
    {
     "output_type": "display_data",
     "data": {
      "text/html": [
       "<style scoped>\n",
       "  .ansiout {\n",
       "    display: block;\n",
       "    unicode-bidi: embed;\n",
       "    white-space: pre-wrap;\n",
       "    word-wrap: break-word;\n",
       "    word-break: break-all;\n",
       "    font-family: \"Menlo\", \"Monaco\", \"Consolas\", \"Ubuntu Mono\", \"Source Code Pro\", monospace;\n",
       "    font-size: 13px;\n",
       "    color: #555;\n",
       "    margin-left: 4px;\n",
       "    line-height: 19px;\n",
       "  }\n",
       "</style>\n",
       "<div class=\"ansiout\">8\n",
       "mult: (a: Int, b: Int)Int\n",
       "</div>"
      ]
     },
     "metadata": {
      "application/vnd.databricks.v1+output": {
       "addedWidgets": {},
       "arguments": {},
       "data": "<div class=\"ansiout\">8\nmult: (a: Int, b: Int)Int\n</div>",
       "datasetInfos": [],
       "metadata": {
        "isDbfsCommandResult": false
       },
       "removedWidgets": [],
       "type": "html"
      }
     },
     "output_type": "display_data"
    }
   ],
   "source": [
    "%scala\n",
    "def mult(a: Int, b: Int): Int = {\n",
    "  a * b\n",
    "}\n",
    "\n",
    "println(mult(2,4))"
   ]
  },
  {
   "cell_type": "code",
   "execution_count": 0,
   "metadata": {
    "application/vnd.databricks.v1+cell": {
     "cellMetadata": {
      "byteLimit": 2048000,
      "rowLimit": 10000
     },
     "inputWidgets": {},
     "nuid": "bd560096-c8db-4ba5-b32e-691d8c0e9e4a",
     "showTitle": false,
     "title": ""
    },
    "jupyter": {
     "outputs_hidden": true
    }
   },
   "outputs": [],
   "source": [
    "%scala\n",
    "import org.apache.spark.sql.Row\n",
    "import org.apache.spark.sql.types.{StructType, StructField, StringType}\n",
    "\n",
    "val data = List(Row(\"1\", jContent))\n",
    "\n",
    "val dfSchema = StructType(fields = Seq(\n",
    "  StructField(\"id\", StringType, false),\n",
    "  StructField(\"json\", StringType, false)\n",
    "))\n",
    "\n",
    "\n",
    "val df = spark.createDataFrame(sc.parallelize(data), StructType(dfSchema))\n"
   ]
  },
  {
   "cell_type": "code",
   "execution_count": 0,
   "metadata": {
    "application/vnd.databricks.v1+cell": {
     "cellMetadata": {
      "byteLimit": 2048000,
      "rowLimit": 10000
     },
     "inputWidgets": {},
     "nuid": "fdcef59e-0d65-4b89-8764-93da674ca31b",
     "showTitle": false,
     "title": ""
    },
    "jupyter": {
     "outputs_hidden": true
    }
   },
   "outputs": [],
   "source": [
    "%scala\n",
    "display(df)"
   ]
  },
  {
   "cell_type": "code",
   "execution_count": 0,
   "metadata": {
    "application/vnd.databricks.v1+cell": {
     "cellMetadata": {
      "byteLimit": 2048000,
      "rowLimit": 10000
     },
     "inputWidgets": {},
     "nuid": "3d651ce7-e313-4677-ae8d-ad2c6a4c1f60",
     "showTitle": false,
     "title": ""
    },
    "jupyter": {
     "outputs_hidden": true
    }
   },
   "outputs": [],
   "source": [
    "%scala\n",
    "import org.apache.spark.sql.functions.{col, get_json_object}\n",
    "\n",
    "// df.select(get_json_object(col(\"json\"),\"$.ppu\").as(\"ppu\")).show(false)\n",
    "df.select(get_json_object(col(\"json\"),\"$.ppu\")).head().getString(0)\n"
   ]
  },
  {
   "cell_type": "code",
   "execution_count": 0,
   "metadata": {
    "application/vnd.databricks.v1+cell": {
     "cellMetadata": {
      "byteLimit": 2048000,
      "rowLimit": 10000
     },
     "inputWidgets": {},
     "nuid": "db40e334-38af-49c0-b804-9fb6a4cd1f92",
     "showTitle": false,
     "title": ""
    },
    "jupyter": {
     "outputs_hidden": true,
     "source_hidden": true
    }
   },
   "outputs": [],
   "source": [
    "%scala\n",
    "val jPathMap = Map(\n",
    "  \"$.id\" -> \"dnt.id\",\n",
    "  \"$.type\" -> \"dnt.type\",\n",
    "  \"$.ppu\" -> \"dnt.ppu\",\n",
    "  \"$.batters.batter[:]\" -> \"dnt.batters\",\n",
    "  \"$.topping\" -> \"dnt.toppings\"\n",
    ")\n",
    "\n",
    "var data = Seq.empty[String]\n",
    "\n",
    "jPathMap.foreach { case (jpath, colm) =>\n",
    "  data = data :+ df.select(get_json_object(col(\"json\"), jpath)).head().getString(0)\n",
    "}"
   ]
  },
  {
   "cell_type": "code",
   "execution_count": 0,
   "metadata": {
    "application/vnd.databricks.v1+cell": {
     "cellMetadata": {
      "byteLimit": 2048000,
      "rowLimit": 10000
     },
     "inputWidgets": {},
     "nuid": "5a892bbc-0a08-4a2c-aab8-536cbbe723ac",
     "showTitle": false,
     "title": ""
    },
    "jupyter": {
     "outputs_hidden": true
    }
   },
   "outputs": [],
   "source": [
    "%scala\n",
    "import scala.collection.mutable.{Map => MutableMap}\n",
    "import scala.collection.immutable.{ListMap}\n",
    "\n",
    "val jPathMap = ListMap(\n",
    "  \"$.id\" -> \"dnt_id\",\n",
    "  \"$.type\" -> \"dnt_type\",\n",
    "  \"$.ppu\" -> \"dnt_ppu\",\n",
    "  \"$.batters.batter\" -> \"dnt_batters\",  // check null value case\n",
    "  \"$.topping[:]\" -> \"dnt_toppings\"\n",
    ")\n",
    "\n",
    "var rowData = MutableMap.empty[String, String]\n",
    "\n",
    "jPathMap.foreach { case (jpath, colm) =>\n",
    "  rowData += (colm -> df.select(get_json_object(col(\"json\"), jpath)).head().getString(0))\n",
    "}"
   ]
  },
  {
   "cell_type": "code",
   "execution_count": 0,
   "metadata": {
    "application/vnd.databricks.v1+cell": {
     "cellMetadata": {
      "byteLimit": 2048000,
      "rowLimit": 10000
     },
     "inputWidgets": {},
     "nuid": "43648b94-17be-4e37-9b7b-79219b35e748",
     "showTitle": false,
     "title": ""
    }
   },
   "outputs": [],
   "source": [
    "%scala\n",
    "import org.apache.spark.util.SizeEstimator\n",
    "\n",
    "SizeEstimator.estimate(jPathMap)\n",
    "SizeEstimator.estimate(rowData)"
   ]
  },
  {
   "cell_type": "code",
   "execution_count": 0,
   "metadata": {
    "application/vnd.databricks.v1+cell": {
     "cellMetadata": {
      "byteLimit": 2048000,
      "rowLimit": 10000
     },
     "inputWidgets": {},
     "nuid": "741d16bf-6a4d-42f7-b040-42496b2c3d4c",
     "showTitle": false,
     "title": ""
    }
   },
   "outputs": [],
   "source": [
    "%scala\n",
    "import org.apache.spark.sql.Row\n",
    "import org.apache.spark.sql.types.{StringType, StructField, StructType}\n",
    "\n",
    "val schema = StructType(rowData.keys.map(StructField(_, StringType, true)).toSeq)\n",
    "val data = Seq(Row(schema.fieldNames.map(n => rowData(n)).toSeq:_*))\n",
    "// val data = Seq(Row(rowData.values.toSeq:_*))\n",
    "\n",
    "val df2 = spark.createDataFrame(sc.parallelize(data), schema)\n",
    "\n",
    "df2.show()"
   ]
  },
  {
   "cell_type": "code",
   "execution_count": 0,
   "metadata": {
    "application/vnd.databricks.v1+cell": {
     "cellMetadata": {
      "byteLimit": 2048000,
      "rowLimit": 10000
     },
     "inputWidgets": {},
     "nuid": "862a2ff0-9aee-4161-9543-4d88b0e76501",
     "showTitle": false,
     "title": ""
    }
   },
   "outputs": [],
   "source": [
    "%scala\n",
    "import org.json.JSONObject"
   ]
  },
  {
   "cell_type": "code",
   "execution_count": 0,
   "metadata": {
    "application/vnd.databricks.v1+cell": {
     "cellMetadata": {
      "byteLimit": 2048000,
      "rowLimit": 10000
     },
     "inputWidgets": {},
     "nuid": "f4369d67-7bc3-49ac-a8d3-078673789e35",
     "showTitle": false,
     "title": ""
    }
   },
   "outputs": [],
   "source": [
    "%scala\n",
    "Row(schema.fieldNames.map( n => rowData(n) ).toSeq:_*)"
   ]
  },
  {
   "cell_type": "code",
   "execution_count": 0,
   "metadata": {
    "application/vnd.databricks.v1+cell": {
     "cellMetadata": {
      "byteLimit": 2048000,
      "rowLimit": 10000
     },
     "inputWidgets": {},
     "nuid": "2f8f3ae9-85d7-4e73-be7b-d23e45095ccc",
     "showTitle": false,
     "title": ""
    }
   },
   "outputs": [],
   "source": [
    "%scala\n",
    "\n",
    "var ss = Seq()\n",
    "var ds = Seq.empty[String]\n",
    "\n",
    "rowData.foreach { case (colm, value) =>\n",
    "  \n",
    "  // println(colm + \":\" + value)\n",
    "}"
   ]
  },
  {
   "cell_type": "code",
   "execution_count": 0,
   "metadata": {
    "application/vnd.databricks.v1+cell": {
     "cellMetadata": {
      "byteLimit": 2048000,
      "rowLimit": 10000
     },
     "inputWidgets": {},
     "nuid": "8b13ccb5-3797-4a0e-b6f4-a2c549bf5802",
     "showTitle": false,
     "title": ""
    }
   },
   "outputs": [],
   "source": [
    "%scala\n",
    "import io.delta.tables.{DeltaTable}\n",
    "\n",
    "// val targetDT = DeltaTable.forPath(spark, \"/mnt/formula1dl/demo/drivers_merge\")\n",
    "val targetDT = DeltaTable.forName(\"db1.donuts\")\n",
    "\n",
    "// val targetDf = spark.read.format(\"delta\").load(\"/mnt/storage41623/processed/donuts\")\n",
    "// val targetDf = spark.read.format(\"delta\").table(\"db1.donuts\")"
   ]
  },
  {
   "cell_type": "code",
   "execution_count": 0,
   "metadata": {
    "application/vnd.databricks.v1+cell": {
     "cellMetadata": {
      "byteLimit": 2048000,
      "rowLimit": 10000
     },
     "inputWidgets": {},
     "nuid": "41a518ed-a767-41f7-a058-de148239c31f",
     "showTitle": false,
     "title": ""
    }
   },
   "outputs": [],
   "source": [
    "%scala\n",
    "targetDT\n",
    "  .as(\"target\")\n",
    "  .merge(df2.as(\"source\"), \"source.dnt_id = target.dnt_id\")\n",
    "  .whenMatched()\n",
    "  .updateAll()\n",
    "  .whenNotMatched()\n",
    "  .insertAll()\n",
    "  .execute()"
   ]
  },
  {
   "cell_type": "code",
   "execution_count": 0,
   "metadata": {
    "application/vnd.databricks.v1+cell": {
     "cellMetadata": {},
     "inputWidgets": {},
     "nuid": "46699dd2-8a0c-4f24-81ac-6c335a69b2f5",
     "showTitle": false,
     "title": ""
    }
   },
   "outputs": [],
   "source": []
  },
  {
   "cell_type": "code",
   "execution_count": 0,
   "metadata": {
    "application/vnd.databricks.v1+cell": {
     "cellMetadata": {
      "byteLimit": 2048000,
      "rowLimit": 10000
     },
     "inputWidgets": {},
     "nuid": "45fba594-bc74-4963-8de2-ee2493725f3f",
     "showTitle": false,
     "title": ""
    }
   },
   "outputs": [],
   "source": [
    "%sql\n",
    "select *\n",
    "  from db1.donuts; "
   ]
  }
 ],
 "metadata": {
  "application/vnd.databricks.v1+notebook": {
   "dashboards": [],
   "language": "python",
   "notebookMetadata": {
    "pythonIndentUnit": 4
   },
   "notebookName": "(Clone) json_to_parquet",
   "widgets": {}
  }
 },
 "nbformat": 4,
 "nbformat_minor": 0
}
